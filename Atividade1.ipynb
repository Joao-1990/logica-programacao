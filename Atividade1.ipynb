{
  "nbformat": 4,
  "nbformat_minor": 0,
  "metadata": {
    "colab": {
      "provenance": []
    },
    "kernelspec": {
      "name": "python3",
      "display_name": "Python 3"
    },
    "language_info": {
      "name": "python"
    }
  },
  "cells": [
    {
      "cell_type": "code",
      "source": [
        "num1 = float(input(\"Digite o primeiro número: \"))\n",
        "num2 = float(input(\"Digite o segundo número: \"))\n",
        "\n",
        "print(\"Que tipo de operação deseja realizar?\")\n",
        "print(\"1 - Soma\")\n",
        "print(\"2 - Subtracao\")\n",
        "print(\"3 - Multiplicacao\")\n",
        "print(\"4 - Divisao\")\n",
        "\n",
        "escolha = input(\"Digite a operação desejada: \")\n",
        "\n",
        "if escolha == \"1\":\n",
        "    soma = num1 + num2\n",
        "    print(\"O resultado da sua soma é:\", soma)\n",
        "elif escolha == \"2\":\n",
        "    subtracao = num1 - num2\n",
        "    print(\"O resultado da sua subtração é:\", subtracao)\n",
        "elif escolha == \"3\":\n",
        "    multiplicacao = num1 * num2\n",
        "    print(\"O resultado da sua multiplicação é:\", multiplicacao)\n",
        "elif escolha == \"4\":\n",
        "    divisao = num1 / num2\n",
        "    print(\"O resultado da sua divisão é:\", divisao)\n",
        "else:\n",
        "    print(\"Não é possivel dividir por 0\")\n",
        "\n",
        "while escolha != \"1\" and escolha != \"2\" and escolha != \"3\" and escolha != \"4\":\n",
        "    print(\"Obrigado, até uma próxima!\")\n",
        "    break"
      ],
      "metadata": {
        "colab": {
          "base_uri": "https://localhost:8080/"
        },
        "id": "osgfisuVGCI1",
        "outputId": "1548101b-482f-459d-f9fd-985dc9adf798"
      },
      "execution_count": 96,
      "outputs": [
        {
          "output_type": "stream",
          "name": "stdout",
          "text": [
            "Digite o primeiro número: 10\n",
            "Digite o segundo número: 0\n",
            "Que tipo de operação deseja realizar?\n",
            "1 - Soma\n",
            "2 - Subtracao\n",
            "3 - Multiplicacao\n",
            "4 - Divisao\n",
            "Digite a operação desejada: \n",
            "Não é possivel dividir por 0\n",
            "Obrigado, até uma próxima!\n"
          ]
        }
      ]
    }
  ]
}